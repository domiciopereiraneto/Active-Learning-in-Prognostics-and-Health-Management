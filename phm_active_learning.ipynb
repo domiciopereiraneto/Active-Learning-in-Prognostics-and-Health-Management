{
 "cells": [
  {
   "cell_type": "markdown",
   "metadata": {},
   "source": [
    "# Ranked-batch Active Learning\n",
    "\n",
    "Authors: Domicio Neto, Tiago Conceição"
   ]
  },
  {
   "cell_type": "code",
   "execution_count": 1,
   "metadata": {},
   "outputs": [],
   "source": [
    "import numpy as np\n",
    "import pandas as pd\n",
    "import math\n",
    "\n",
    "from modAL.models import ActiveLearner\n",
    "from modAL.uncertainty import uncertainty_sampling\n",
    "\n",
    "from sklearn.model_selection import train_test_split\n",
    "from sklearn.ensemble import RandomForestClassifier\n",
    "from sklearn.metrics import f1_score\n",
    "from sklearn.model_selection import StratifiedShuffleSplit\n",
    "from functools import partial\n",
    "from modAL.batch import uncertainty_batch_sampling\n",
    "\n",
    "from IPython import display\n",
    "from matplotlib import pyplot as plt\n",
    "%matplotlib inline"
   ]
  },
  {
   "cell_type": "markdown",
   "metadata": {},
   "source": [
    "Place the **pumpDataFeatures.csv** file in the directory of this notebook."
   ]
  },
  {
   "cell_type": "markdown",
   "metadata": {},
   "source": [
    "### Experiment parameters"
   ]
  },
  {
   "cell_type": "markdown",
   "metadata": {},
   "source": [
    "Use the parameters below to replicate the results we obtained."
   ]
  },
  {
   "cell_type": "code",
   "execution_count": 2,
   "metadata": {},
   "outputs": [],
   "source": [
    "parameters = [[5,621],[5,984],[5,162],[5,344],[5,156],\n",
    "             [10,621],[10,984],[10,162],[10,344],[10,156],\n",
    "             [20,621],[20,984],[20,162],[20,344],[20,156],\n",
    "             [25,621],[25,984],[25,162],[25,344],[25,156]]\n",
    "p_idx = 0"
   ]
  },
  {
   "cell_type": "code",
   "execution_count": 3,
   "metadata": {},
   "outputs": [],
   "source": [
    "# remember, the number of samples to be queried must be divisible by the batch size\n",
    "BATCH_SIZE, RANDOM_STATE_SEED = parameters[p_idx]\n",
    "N_SAMPLES = 50\n",
    "N_QUERIES = int(N_SAMPLES/BATCH_SIZE)"
   ]
  },
  {
   "cell_type": "code",
   "execution_count": 4,
   "metadata": {},
   "outputs": [
    {
     "name": "stdout",
     "output_type": "stream",
     "text": [
      "Batch size: 5\n",
      "Number of queries: 10\n",
      "Seed: 621\n"
     ]
    }
   ],
   "source": [
    "print(\"Batch size: \"+str(BATCH_SIZE))\n",
    "print(\"Number of queries: \"+str(N_QUERIES))\n",
    "print(\"Seed: \"+str(RANDOM_STATE_SEED))"
   ]
  },
  {
   "cell_type": "markdown",
   "metadata": {},
   "source": [
    "### Setting the seed to reproduce the same results"
   ]
  },
  {
   "cell_type": "code",
   "execution_count": 5,
   "metadata": {},
   "outputs": [],
   "source": [
    "np.random.seed(RANDOM_STATE_SEED)"
   ]
  },
  {
   "cell_type": "markdown",
   "metadata": {},
   "source": [
    "### Importing and preparing the dataset"
   ]
  },
  {
   "cell_type": "code",
   "execution_count": 6,
   "metadata": {},
   "outputs": [],
   "source": [
    "dataset_original = pd.read_csv(\"pumpDataFeatures.csv\")"
   ]
  },
  {
   "cell_type": "markdown",
   "metadata": {},
   "source": [
    "#### Example from the dataset"
   ]
  },
  {
   "cell_type": "code",
   "execution_count": 7,
   "metadata": {},
   "outputs": [
    {
     "data": {
      "text/html": [
       "<div>\n",
       "<style scoped>\n",
       "    .dataframe tbody tr th:only-of-type {\n",
       "        vertical-align: middle;\n",
       "    }\n",
       "\n",
       "    .dataframe tbody tr th {\n",
       "        vertical-align: top;\n",
       "    }\n",
       "\n",
       "    .dataframe thead th {\n",
       "        text-align: right;\n",
       "    }\n",
       "</style>\n",
       "<table border=\"1\" class=\"dataframe\">\n",
       "  <thead>\n",
       "    <tr style=\"text-align: right;\">\n",
       "      <th></th>\n",
       "      <th>faultCode</th>\n",
       "      <th>flow_stats/Data_ClearanceFactor</th>\n",
       "      <th>flow_stats/Data_CrestFactor</th>\n",
       "      <th>flow_stats/Data_ImpulseFactor</th>\n",
       "      <th>flow_stats/Data_Kurtosis</th>\n",
       "      <th>flow_stats/Data_Mean</th>\n",
       "      <th>flow_stats/Data_PeakValue</th>\n",
       "      <th>flow_stats/Data_RMS</th>\n",
       "      <th>flow_stats/Data_SINAD</th>\n",
       "      <th>flow_stats/Data_SNR</th>\n",
       "      <th>...</th>\n",
       "      <th>pressure_ps_spec/Data_PeakFreq5</th>\n",
       "      <th>pressure_ps_spec/Data_Wn1</th>\n",
       "      <th>pressure_ps_spec/Data_Wn2</th>\n",
       "      <th>pressure_ps_spec/Data_Wn3</th>\n",
       "      <th>pressure_ps_spec/Data_Wn4</th>\n",
       "      <th>pressure_ps_spec/Data_Zeta1</th>\n",
       "      <th>pressure_ps_spec/Data_Zeta2</th>\n",
       "      <th>pressure_ps_spec/Data_Zeta3</th>\n",
       "      <th>pressure_ps_spec/Data_Zeta4</th>\n",
       "      <th>pressure_ps_spec/Data_BandPower</th>\n",
       "    </tr>\n",
       "  </thead>\n",
       "  <tbody>\n",
       "    <tr>\n",
       "      <th>0</th>\n",
       "      <td>0</td>\n",
       "      <td>1.163391</td>\n",
       "      <td>1.157736</td>\n",
       "      <td>1.161464</td>\n",
       "      <td>2.411256</td>\n",
       "      <td>38.425683</td>\n",
       "      <td>44.630042</td>\n",
       "      <td>38.549398</td>\n",
       "      <td>-1.859601</td>\n",
       "      <td>-1.638197</td>\n",
       "      <td>...</td>\n",
       "      <td>197.344375</td>\n",
       "      <td>48.207771</td>\n",
       "      <td>96.038369</td>\n",
       "      <td>146.757076</td>\n",
       "      <td>NaN</td>\n",
       "      <td>0.027078</td>\n",
       "      <td>0.008036</td>\n",
       "      <td>0.026561</td>\n",
       "      <td>NaN</td>\n",
       "      <td>0.000311</td>\n",
       "    </tr>\n",
       "    <tr>\n",
       "      <th>1</th>\n",
       "      <td>0</td>\n",
       "      <td>1.155002</td>\n",
       "      <td>1.149543</td>\n",
       "      <td>1.153142</td>\n",
       "      <td>2.401777</td>\n",
       "      <td>38.430092</td>\n",
       "      <td>44.315342</td>\n",
       "      <td>38.550391</td>\n",
       "      <td>-0.766921</td>\n",
       "      <td>-0.502252</td>\n",
       "      <td>...</td>\n",
       "      <td>197.737767</td>\n",
       "      <td>48.335174</td>\n",
       "      <td>96.130586</td>\n",
       "      <td>147.535844</td>\n",
       "      <td>280.031243</td>\n",
       "      <td>0.027930</td>\n",
       "      <td>0.008919</td>\n",
       "      <td>0.035015</td>\n",
       "      <td>0.001315</td>\n",
       "      <td>0.000316</td>\n",
       "    </tr>\n",
       "    <tr>\n",
       "      <th>2</th>\n",
       "      <td>100</td>\n",
       "      <td>1.139845</td>\n",
       "      <td>1.134447</td>\n",
       "      <td>1.138003</td>\n",
       "      <td>2.521911</td>\n",
       "      <td>38.107923</td>\n",
       "      <td>43.366923</td>\n",
       "      <td>38.227375</td>\n",
       "      <td>-1.165394</td>\n",
       "      <td>-1.044432</td>\n",
       "      <td>...</td>\n",
       "      <td>245.180239</td>\n",
       "      <td>47.842206</td>\n",
       "      <td>95.379830</td>\n",
       "      <td>145.621203</td>\n",
       "      <td>191.867557</td>\n",
       "      <td>0.031275</td>\n",
       "      <td>0.009333</td>\n",
       "      <td>0.040380</td>\n",
       "      <td>0.032653</td>\n",
       "      <td>0.000313</td>\n",
       "    </tr>\n",
       "    <tr>\n",
       "      <th>3</th>\n",
       "      <td>100</td>\n",
       "      <td>1.161095</td>\n",
       "      <td>1.155509</td>\n",
       "      <td>1.159191</td>\n",
       "      <td>2.379006</td>\n",
       "      <td>37.173210</td>\n",
       "      <td>43.090842</td>\n",
       "      <td>37.291647</td>\n",
       "      <td>-1.438353</td>\n",
       "      <td>-1.148977</td>\n",
       "      <td>...</td>\n",
       "      <td>243.264930</td>\n",
       "      <td>47.061263</td>\n",
       "      <td>93.293689</td>\n",
       "      <td>145.011475</td>\n",
       "      <td>189.426438</td>\n",
       "      <td>0.050114</td>\n",
       "      <td>0.013187</td>\n",
       "      <td>0.056640</td>\n",
       "      <td>0.045693</td>\n",
       "      <td>0.000271</td>\n",
       "    </tr>\n",
       "    <tr>\n",
       "      <th>4</th>\n",
       "      <td>100</td>\n",
       "      <td>1.155750</td>\n",
       "      <td>1.150469</td>\n",
       "      <td>1.153952</td>\n",
       "      <td>2.367804</td>\n",
       "      <td>38.105157</td>\n",
       "      <td>43.971526</td>\n",
       "      <td>38.220509</td>\n",
       "      <td>-1.785390</td>\n",
       "      <td>-1.552011</td>\n",
       "      <td>...</td>\n",
       "      <td>197.367821</td>\n",
       "      <td>47.891793</td>\n",
       "      <td>95.319000</td>\n",
       "      <td>146.999946</td>\n",
       "      <td>267.203167</td>\n",
       "      <td>0.031247</td>\n",
       "      <td>0.009139</td>\n",
       "      <td>0.030858</td>\n",
       "      <td>0.010233</td>\n",
       "      <td>0.000313</td>\n",
       "    </tr>\n",
       "    <tr>\n",
       "      <th>...</th>\n",
       "      <td>...</td>\n",
       "      <td>...</td>\n",
       "      <td>...</td>\n",
       "      <td>...</td>\n",
       "      <td>...</td>\n",
       "      <td>...</td>\n",
       "      <td>...</td>\n",
       "      <td>...</td>\n",
       "      <td>...</td>\n",
       "      <td>...</td>\n",
       "      <td>...</td>\n",
       "      <td>...</td>\n",
       "      <td>...</td>\n",
       "      <td>...</td>\n",
       "      <td>...</td>\n",
       "      <td>...</td>\n",
       "      <td>...</td>\n",
       "      <td>...</td>\n",
       "      <td>...</td>\n",
       "      <td>...</td>\n",
       "      <td>...</td>\n",
       "    </tr>\n",
       "    <tr>\n",
       "      <th>235</th>\n",
       "      <td>100</td>\n",
       "      <td>1.146129</td>\n",
       "      <td>1.140671</td>\n",
       "      <td>1.144268</td>\n",
       "      <td>2.412568</td>\n",
       "      <td>37.155652</td>\n",
       "      <td>42.516014</td>\n",
       "      <td>37.272818</td>\n",
       "      <td>-1.270555</td>\n",
       "      <td>-0.992189</td>\n",
       "      <td>...</td>\n",
       "      <td>243.459346</td>\n",
       "      <td>47.107129</td>\n",
       "      <td>93.193350</td>\n",
       "      <td>141.077958</td>\n",
       "      <td>NaN</td>\n",
       "      <td>0.051137</td>\n",
       "      <td>0.012350</td>\n",
       "      <td>0.069070</td>\n",
       "      <td>NaN</td>\n",
       "      <td>0.000286</td>\n",
       "    </tr>\n",
       "    <tr>\n",
       "      <th>236</th>\n",
       "      <td>100</td>\n",
       "      <td>1.148484</td>\n",
       "      <td>1.143093</td>\n",
       "      <td>1.146647</td>\n",
       "      <td>2.416922</td>\n",
       "      <td>37.038475</td>\n",
       "      <td>42.470058</td>\n",
       "      <td>37.153642</td>\n",
       "      <td>-1.179148</td>\n",
       "      <td>-0.794501</td>\n",
       "      <td>...</td>\n",
       "      <td>243.148178</td>\n",
       "      <td>46.951055</td>\n",
       "      <td>93.049051</td>\n",
       "      <td>142.786666</td>\n",
       "      <td>NaN</td>\n",
       "      <td>0.053929</td>\n",
       "      <td>0.014436</td>\n",
       "      <td>0.052553</td>\n",
       "      <td>NaN</td>\n",
       "      <td>0.000285</td>\n",
       "    </tr>\n",
       "    <tr>\n",
       "      <th>237</th>\n",
       "      <td>100</td>\n",
       "      <td>1.166223</td>\n",
       "      <td>1.160635</td>\n",
       "      <td>1.164320</td>\n",
       "      <td>2.359408</td>\n",
       "      <td>37.636771</td>\n",
       "      <td>43.821246</td>\n",
       "      <td>37.756276</td>\n",
       "      <td>-0.809155</td>\n",
       "      <td>-0.494147</td>\n",
       "      <td>...</td>\n",
       "      <td>243.809088</td>\n",
       "      <td>47.368669</td>\n",
       "      <td>94.225331</td>\n",
       "      <td>144.974469</td>\n",
       "      <td>NaN</td>\n",
       "      <td>0.041765</td>\n",
       "      <td>0.011243</td>\n",
       "      <td>0.043999</td>\n",
       "      <td>NaN</td>\n",
       "      <td>0.000311</td>\n",
       "    </tr>\n",
       "    <tr>\n",
       "      <th>238</th>\n",
       "      <td>100</td>\n",
       "      <td>1.139716</td>\n",
       "      <td>1.134204</td>\n",
       "      <td>1.137837</td>\n",
       "      <td>2.378374</td>\n",
       "      <td>38.209404</td>\n",
       "      <td>43.476085</td>\n",
       "      <td>38.331813</td>\n",
       "      <td>-0.949510</td>\n",
       "      <td>-0.526268</td>\n",
       "      <td>...</td>\n",
       "      <td>199.364386</td>\n",
       "      <td>48.228289</td>\n",
       "      <td>95.763336</td>\n",
       "      <td>146.453312</td>\n",
       "      <td>190.555999</td>\n",
       "      <td>0.032764</td>\n",
       "      <td>0.009876</td>\n",
       "      <td>0.037890</td>\n",
       "      <td>0.112334</td>\n",
       "      <td>0.000309</td>\n",
       "    </tr>\n",
       "    <tr>\n",
       "      <th>239</th>\n",
       "      <td>100</td>\n",
       "      <td>1.157158</td>\n",
       "      <td>1.151719</td>\n",
       "      <td>1.155305</td>\n",
       "      <td>2.323447</td>\n",
       "      <td>38.267673</td>\n",
       "      <td>44.210831</td>\n",
       "      <td>38.386814</td>\n",
       "      <td>-0.738621</td>\n",
       "      <td>-0.203872</td>\n",
       "      <td>...</td>\n",
       "      <td>197.604483</td>\n",
       "      <td>48.197955</td>\n",
       "      <td>95.806660</td>\n",
       "      <td>146.303583</td>\n",
       "      <td>288.422584</td>\n",
       "      <td>0.032544</td>\n",
       "      <td>0.009846</td>\n",
       "      <td>0.034208</td>\n",
       "      <td>0.005841</td>\n",
       "      <td>0.000314</td>\n",
       "    </tr>\n",
       "  </tbody>\n",
       "</table>\n",
       "<p>240 rows × 64 columns</p>\n",
       "</div>"
      ],
      "text/plain": [
       "     faultCode  flow_stats/Data_ClearanceFactor  flow_stats/Data_CrestFactor  \\\n",
       "0            0                         1.163391                     1.157736   \n",
       "1            0                         1.155002                     1.149543   \n",
       "2          100                         1.139845                     1.134447   \n",
       "3          100                         1.161095                     1.155509   \n",
       "4          100                         1.155750                     1.150469   \n",
       "..         ...                              ...                          ...   \n",
       "235        100                         1.146129                     1.140671   \n",
       "236        100                         1.148484                     1.143093   \n",
       "237        100                         1.166223                     1.160635   \n",
       "238        100                         1.139716                     1.134204   \n",
       "239        100                         1.157158                     1.151719   \n",
       "\n",
       "     flow_stats/Data_ImpulseFactor  flow_stats/Data_Kurtosis  \\\n",
       "0                         1.161464                  2.411256   \n",
       "1                         1.153142                  2.401777   \n",
       "2                         1.138003                  2.521911   \n",
       "3                         1.159191                  2.379006   \n",
       "4                         1.153952                  2.367804   \n",
       "..                             ...                       ...   \n",
       "235                       1.144268                  2.412568   \n",
       "236                       1.146647                  2.416922   \n",
       "237                       1.164320                  2.359408   \n",
       "238                       1.137837                  2.378374   \n",
       "239                       1.155305                  2.323447   \n",
       "\n",
       "     flow_stats/Data_Mean  flow_stats/Data_PeakValue  flow_stats/Data_RMS  \\\n",
       "0               38.425683                  44.630042            38.549398   \n",
       "1               38.430092                  44.315342            38.550391   \n",
       "2               38.107923                  43.366923            38.227375   \n",
       "3               37.173210                  43.090842            37.291647   \n",
       "4               38.105157                  43.971526            38.220509   \n",
       "..                    ...                        ...                  ...   \n",
       "235             37.155652                  42.516014            37.272818   \n",
       "236             37.038475                  42.470058            37.153642   \n",
       "237             37.636771                  43.821246            37.756276   \n",
       "238             38.209404                  43.476085            38.331813   \n",
       "239             38.267673                  44.210831            38.386814   \n",
       "\n",
       "     flow_stats/Data_SINAD  flow_stats/Data_SNR  ...  \\\n",
       "0                -1.859601            -1.638197  ...   \n",
       "1                -0.766921            -0.502252  ...   \n",
       "2                -1.165394            -1.044432  ...   \n",
       "3                -1.438353            -1.148977  ...   \n",
       "4                -1.785390            -1.552011  ...   \n",
       "..                     ...                  ...  ...   \n",
       "235              -1.270555            -0.992189  ...   \n",
       "236              -1.179148            -0.794501  ...   \n",
       "237              -0.809155            -0.494147  ...   \n",
       "238              -0.949510            -0.526268  ...   \n",
       "239              -0.738621            -0.203872  ...   \n",
       "\n",
       "     pressure_ps_spec/Data_PeakFreq5  pressure_ps_spec/Data_Wn1  \\\n",
       "0                         197.344375                  48.207771   \n",
       "1                         197.737767                  48.335174   \n",
       "2                         245.180239                  47.842206   \n",
       "3                         243.264930                  47.061263   \n",
       "4                         197.367821                  47.891793   \n",
       "..                               ...                        ...   \n",
       "235                       243.459346                  47.107129   \n",
       "236                       243.148178                  46.951055   \n",
       "237                       243.809088                  47.368669   \n",
       "238                       199.364386                  48.228289   \n",
       "239                       197.604483                  48.197955   \n",
       "\n",
       "     pressure_ps_spec/Data_Wn2  pressure_ps_spec/Data_Wn3  \\\n",
       "0                    96.038369                 146.757076   \n",
       "1                    96.130586                 147.535844   \n",
       "2                    95.379830                 145.621203   \n",
       "3                    93.293689                 145.011475   \n",
       "4                    95.319000                 146.999946   \n",
       "..                         ...                        ...   \n",
       "235                  93.193350                 141.077958   \n",
       "236                  93.049051                 142.786666   \n",
       "237                  94.225331                 144.974469   \n",
       "238                  95.763336                 146.453312   \n",
       "239                  95.806660                 146.303583   \n",
       "\n",
       "     pressure_ps_spec/Data_Wn4  pressure_ps_spec/Data_Zeta1  \\\n",
       "0                          NaN                     0.027078   \n",
       "1                   280.031243                     0.027930   \n",
       "2                   191.867557                     0.031275   \n",
       "3                   189.426438                     0.050114   \n",
       "4                   267.203167                     0.031247   \n",
       "..                         ...                          ...   \n",
       "235                        NaN                     0.051137   \n",
       "236                        NaN                     0.053929   \n",
       "237                        NaN                     0.041765   \n",
       "238                 190.555999                     0.032764   \n",
       "239                 288.422584                     0.032544   \n",
       "\n",
       "     pressure_ps_spec/Data_Zeta2  pressure_ps_spec/Data_Zeta3  \\\n",
       "0                       0.008036                     0.026561   \n",
       "1                       0.008919                     0.035015   \n",
       "2                       0.009333                     0.040380   \n",
       "3                       0.013187                     0.056640   \n",
       "4                       0.009139                     0.030858   \n",
       "..                           ...                          ...   \n",
       "235                     0.012350                     0.069070   \n",
       "236                     0.014436                     0.052553   \n",
       "237                     0.011243                     0.043999   \n",
       "238                     0.009876                     0.037890   \n",
       "239                     0.009846                     0.034208   \n",
       "\n",
       "     pressure_ps_spec/Data_Zeta4  pressure_ps_spec/Data_BandPower  \n",
       "0                            NaN                         0.000311  \n",
       "1                       0.001315                         0.000316  \n",
       "2                       0.032653                         0.000313  \n",
       "3                       0.045693                         0.000271  \n",
       "4                       0.010233                         0.000313  \n",
       "..                           ...                              ...  \n",
       "235                          NaN                         0.000286  \n",
       "236                          NaN                         0.000285  \n",
       "237                          NaN                         0.000311  \n",
       "238                     0.112334                         0.000309  \n",
       "239                     0.005841                         0.000314  \n",
       "\n",
       "[240 rows x 64 columns]"
      ]
     },
     "execution_count": 7,
     "metadata": {},
     "output_type": "execute_result"
    }
   ],
   "source": [
    "dataset_original"
   ]
  },
  {
   "cell_type": "markdown",
   "metadata": {},
   "source": [
    "### Counting the number of samples of each class"
   ]
  },
  {
   "cell_type": "code",
   "execution_count": 8,
   "metadata": {},
   "outputs": [
    {
     "data": {
      "text/html": [
       "<div>\n",
       "<style scoped>\n",
       "    .dataframe tbody tr th:only-of-type {\n",
       "        vertical-align: middle;\n",
       "    }\n",
       "\n",
       "    .dataframe tbody tr th {\n",
       "        vertical-align: top;\n",
       "    }\n",
       "\n",
       "    .dataframe thead th {\n",
       "        text-align: right;\n",
       "    }\n",
       "</style>\n",
       "<table border=\"1\" class=\"dataframe\">\n",
       "  <thead>\n",
       "    <tr style=\"text-align: right;\">\n",
       "      <th></th>\n",
       "      <th>faultCode</th>\n",
       "    </tr>\n",
       "    <tr>\n",
       "      <th>labels</th>\n",
       "      <th></th>\n",
       "    </tr>\n",
       "  </thead>\n",
       "  <tbody>\n",
       "    <tr>\n",
       "      <th>None</th>\n",
       "      <td>42</td>\n",
       "    </tr>\n",
       "    <tr>\n",
       "      <th>Leak</th>\n",
       "      <td>27</td>\n",
       "    </tr>\n",
       "    <tr>\n",
       "      <th>Blocking</th>\n",
       "      <td>41</td>\n",
       "    </tr>\n",
       "    <tr>\n",
       "      <th>Leak &amp; Blocking</th>\n",
       "      <td>17</td>\n",
       "    </tr>\n",
       "    <tr>\n",
       "      <th>Bearing</th>\n",
       "      <td>40</td>\n",
       "    </tr>\n",
       "    <tr>\n",
       "      <th>Bearing &amp; Leak</th>\n",
       "      <td>24</td>\n",
       "    </tr>\n",
       "    <tr>\n",
       "      <th>Bearing &amp; Blocking</th>\n",
       "      <td>32</td>\n",
       "    </tr>\n",
       "    <tr>\n",
       "      <th>All</th>\n",
       "      <td>17</td>\n",
       "    </tr>\n",
       "  </tbody>\n",
       "</table>\n",
       "</div>"
      ],
      "text/plain": [
       "                    faultCode\n",
       "labels                       \n",
       "None                       42\n",
       "Leak                       27\n",
       "Blocking                   41\n",
       "Leak & Blocking            17\n",
       "Bearing                    40\n",
       "Bearing & Leak             24\n",
       "Bearing & Blocking         32\n",
       "All                        17"
      ]
     },
     "execution_count": 8,
     "metadata": {},
     "output_type": "execute_result"
    }
   ],
   "source": [
    "class_names = ['None','Leak','Blocking','Leak & Blocking','Bearing','Bearing & Leak','Bearing & Blocking','All']\n",
    "count_classes = pd.DataFrame(dataset_original['faultCode'].value_counts())\n",
    "count_classes.sort_index(inplace=True)\n",
    "count_classes['labels'] = class_names\n",
    "count_classes.set_index('labels',inplace=True)\n",
    "count_classes"
   ]
  },
  {
   "cell_type": "markdown",
   "metadata": {},
   "source": [
    "The dataset is not balanced"
   ]
  },
  {
   "cell_type": "code",
   "execution_count": 9,
   "metadata": {},
   "outputs": [
    {
     "data": {
      "text/plain": [
       "<AxesSubplot:xlabel='labels'>"
      ]
     },
     "execution_count": 9,
     "metadata": {},
     "output_type": "execute_result"
    },
    {
     "data": {
      "image/png": "[encoded data removed]",
      "text/plain": [
       "<Figure size 432x288 with 1 Axes>"
      ]
     },
     "metadata": {
      "needs_background": "light"
     },
     "output_type": "display_data"
    }
   ],
   "source": [
    "count_classes.plot.bar()"
   ]
  },
  {
   "cell_type": "code",
   "execution_count": 10,
   "metadata": {},
   "outputs": [],
   "source": [
    "# Droping columns with many missing values\n",
    "dataset_original.drop([\"pressure_ps_spec/Data_Zeta4\",\"pressure_ps_spec/Data_Wn4\",\"pressure_ps_spec/Data_PeakFreq5\",\"pressure_ps_spec/Data_PeakAmp5\",\"flow_ps_spec/Data_Zeta4\",\"flow_ps_spec/Data_PeakFreq5\"], axis=1, inplace=True)"
   ]
  },
  {
   "cell_type": "code",
   "execution_count": 11,
   "metadata": {},
   "outputs": [],
   "source": [
    "# Replacing missing values by the average\n",
    "for col in dataset_original.columns:\n",
    "    tmp_avg = dataset_original[col].mean()\n",
    "    dataset_original[col].fillna(tmp_avg, inplace=True)"
   ]
  },
  {
   "cell_type": "code",
   "execution_count": 12,
   "metadata": {},
   "outputs": [
    {
     "data": {
      "text/plain": [
       "0"
      ]
     },
     "execution_count": 12,
     "metadata": {},
     "output_type": "execute_result"
    }
   ],
   "source": [
    "dataset_original.isna().sum().sum()"
   ]
  },
  {
   "cell_type": "markdown",
   "metadata": {},
   "source": [
    "#### Preparing the samples and labels"
   ]
  },
  {
   "cell_type": "markdown",
   "metadata": {},
   "source": [
    "First we separate the samples and labels from the raw dataset."
   ]
  },
  {
   "cell_type": "code",
   "execution_count": 13,
   "metadata": {},
   "outputs": [],
   "source": [
    "X_default = dataset_original.iloc[:,1:].to_numpy()\n",
    "Y_default = dataset_original[\"faultCode\"].to_numpy()"
   ]
  },
  {
   "cell_type": "code",
   "execution_count": 14,
   "metadata": {},
   "outputs": [
    {
     "name": "stdout",
     "output_type": "stream",
     "text": [
      "(240, 57)\n"
     ]
    }
   ],
   "source": [
    "# X_default shape is number of samples x number of features\n",
    "print(X_default.shape)"
   ]
  },
  {
   "cell_type": "code",
   "execution_count": 15,
   "metadata": {},
   "outputs": [
    {
     "name": "stdout",
     "output_type": "stream",
     "text": [
      "(240,)\n"
     ]
    }
   ],
   "source": [
    "# labels\n",
    "print(Y_default.shape)"
   ]
  },
  {
   "cell_type": "markdown",
   "metadata": {},
   "source": [
    "### Creating the training sets"
   ]
  },
  {
   "cell_type": "markdown",
   "metadata": {},
   "source": [
    "Now we create the training sets for the active learner and for the baseline classifier. A first split is done, 15% of the data is set for testing both baseline and active learner. The remaining 85% is used for training the baseline. These 85% is split again in a 40/60 split. The first half is used for training the active learner. The second half is used as the sample pool from where the active learner will make queries during the active learning loop. "
   ]
  },
  {
   "cell_type": "code",
   "execution_count": 16,
   "metadata": {},
   "outputs": [],
   "source": [
    "sss_3 = StratifiedShuffleSplit(n_splits=1, test_size=0.15, random_state=RANDOM_STATE_SEED)"
   ]
  },
  {
   "cell_type": "code",
   "execution_count": 17,
   "metadata": {},
   "outputs": [],
   "source": [
    "for train_index, test_index in sss_3.split(X_default, Y_default):\n",
    "    X_train_baseline, X_test_baseline = X_default[train_index], X_default[test_index]\n",
    "    y_train_baseline, y_test_baseline = Y_default[train_index], Y_default[test_index]"
   ]
  },
  {
   "cell_type": "code",
   "execution_count": 18,
   "metadata": {},
   "outputs": [
    {
     "data": {
      "text/plain": [
       "(204, 57)"
      ]
     },
     "execution_count": 18,
     "metadata": {},
     "output_type": "execute_result"
    }
   ],
   "source": [
    "X_train_baseline.shape"
   ]
  },
  {
   "cell_type": "code",
   "execution_count": 19,
   "metadata": {},
   "outputs": [
    {
     "data": {
      "text/plain": [
       "(36, 57)"
      ]
     },
     "execution_count": 19,
     "metadata": {},
     "output_type": "execute_result"
    }
   ],
   "source": [
    "X_test_baseline.shape"
   ]
  },
  {
   "cell_type": "code",
   "execution_count": 20,
   "metadata": {},
   "outputs": [],
   "source": [
    "sss_1 = StratifiedShuffleSplit(n_splits=1, test_size=0.6, random_state=RANDOM_STATE_SEED)"
   ]
  },
  {
   "cell_type": "code",
   "execution_count": 21,
   "metadata": {},
   "outputs": [],
   "source": [
    "for train_index, test_index in sss_1.split(X_train_baseline, y_train_baseline):\n",
    "    X_train, X_pool = X_train_baseline[train_index], X_train_baseline[test_index]\n",
    "    y_train, y_pool = y_train_baseline[train_index], y_train_baseline[test_index]"
   ]
  },
  {
   "cell_type": "code",
   "execution_count": 22,
   "metadata": {},
   "outputs": [
    {
     "data": {
      "text/plain": [
       "(81, 57)"
      ]
     },
     "execution_count": 22,
     "metadata": {},
     "output_type": "execute_result"
    }
   ],
   "source": [
    "X_train.shape"
   ]
  },
  {
   "cell_type": "code",
   "execution_count": 23,
   "metadata": {},
   "outputs": [
    {
     "data": {
      "text/plain": [
       "(123, 57)"
      ]
     },
     "execution_count": 23,
     "metadata": {},
     "output_type": "execute_result"
    }
   ],
   "source": [
    "X_pool.shape"
   ]
  },
  {
   "cell_type": "markdown",
   "metadata": {},
   "source": [
    "### Creating the baseline classifier"
   ]
  },
  {
   "cell_type": "markdown",
   "metadata": {},
   "source": [
    "The baseline is a Random Forest classifier, also used as the active learner's estimator."
   ]
  },
  {
   "cell_type": "code",
   "execution_count": 24,
   "metadata": {},
   "outputs": [
    {
     "data": {
      "text/plain": [
       "RandomForestClassifier()"
      ]
     },
     "execution_count": 24,
     "metadata": {},
     "output_type": "execute_result"
    }
   ],
   "source": [
    "baseline_clf = RandomForestClassifier()\n",
    "# training the classifier\n",
    "baseline_clf.fit(X_train_baseline, y_train_baseline)"
   ]
  },
  {
   "cell_type": "code",
   "execution_count": 25,
   "metadata": {},
   "outputs": [
    {
     "name": "stdout",
     "output_type": "stream",
     "text": [
      "Baseline F1-score: 0.7747474747474747\n"
     ]
    }
   ],
   "source": [
    "y_pred_baseline = baseline_clf.predict(X_test_baseline)\n",
    "baseline_score = f1_score(y_test_baseline,y_pred_baseline,average='macro')\n",
    "print(\"Baseline F1-score: \"+str(baseline_score))"
   ]
  },
  {
   "cell_type": "markdown",
   "metadata": {},
   "source": [
    "### Initializing the learner"
   ]
  },
  {
   "cell_type": "code",
   "execution_count": 26,
   "metadata": {},
   "outputs": [],
   "source": [
    "clf = RandomForestClassifier()"
   ]
  },
  {
   "cell_type": "code",
   "execution_count": 27,
   "metadata": {},
   "outputs": [],
   "source": [
    "# pre-set our batch sampling to retrieve BATCH_SIZE samples at a time\n",
    "preset_batch = partial(uncertainty_batch_sampling, n_instances=BATCH_SIZE)"
   ]
  },
  {
   "cell_type": "code",
   "execution_count": 28,
   "metadata": {},
   "outputs": [],
   "source": [
    "# creating the active learner\n",
    "learner = ActiveLearner(\n",
    "    estimator=clf,\n",
    "    X_training=X_train,\n",
    "    y_training=y_train,\n",
    "    query_strategy=preset_batch\n",
    ")"
   ]
  },
  {
   "cell_type": "code",
   "execution_count": 29,
   "metadata": {},
   "outputs": [
    {
     "name": "stdout",
     "output_type": "stream",
     "text": [
      "Macro F1-Score: 0.6670634920634921\n"
     ]
    }
   ],
   "source": [
    "# score\n",
    "y_pred = learner.estimator.predict(X_test_baseline)\n",
    "score = f1_score(y_test_baseline,y_pred,average='macro')\n",
    "performance_history = [score]\n",
    "print(\"Macro F1-Score: \"+str(score))"
   ]
  },
  {
   "cell_type": "markdown",
   "metadata": {},
   "source": [
    "### Active learning loop"
   ]
  },
  {
   "cell_type": "markdown",
   "metadata": {},
   "source": [
    "Here is where the Active Learning happens. At each iteration, the learner queries a batch of samples and receives the correct labels. Then the learner trains the estimator again with the new learned samples. Finally, we calculate the performance on the test set at the end of each iteration."
   ]
  },
  {
   "cell_type": "code",
   "execution_count": 30,
   "metadata": {},
   "outputs": [
    {
     "name": "stdout",
     "output_type": "stream",
     "text": [
      "Accuracy after query 1: 0.7565\n",
      "Accuracy after query 2: 0.7565\n",
      "Accuracy after query 3: 0.7829\n",
      "Accuracy after query 4: 0.7842\n",
      "Accuracy after query 5: 0.8247\n",
      "Accuracy after query 6: 0.7747\n",
      "Accuracy after query 7: 0.8486\n",
      "Accuracy after query 8: 0.7747\n",
      "Accuracy after query 9: 0.8986\n",
      "Accuracy after query 10: 0.8486\n"
     ]
    }
   ],
   "source": [
    "for index in range(N_QUERIES):\n",
    "    query_index, query_instance = learner.query(X_pool)\n",
    "\n",
    "    # teach our ActiveLearner model the batch it has requested\n",
    "    X, y = X_pool[query_index], y_pool[query_index]\n",
    "    learner.teach(X=X, y=y)\n",
    "\n",
    "    # remove the queried instances from the unlabeled pool.\n",
    "    X_pool = np.delete(X_pool, query_index, axis=0)\n",
    "    y_pool = np.delete(y_pool, query_index)\n",
    "\n",
    "    # calculate our model's closed set performance\n",
    "    y_pred = learner.estimator.predict(X_test_baseline)\n",
    "    model_f1_score = f1_score(y_test_baseline,y_pred,average='macro')\n",
    "    # calculate our model's open set performance\n",
    "    print('Accuracy after query {n}: {acc:0.4f}'.format(n=index + 1, acc=model_f1_score))\n",
    "    # save our model's performance for plotting\n",
    "    performance_history.append(model_f1_score)"
   ]
  },
  {
   "cell_type": "code",
   "execution_count": 31,
   "metadata": {},
   "outputs": [
    {
     "data": {
      "image/png": "[encoded data removed]",
      "text/plain": [
       "<Figure size 720x360 with 1 Axes>"
      ]
     },
     "metadata": {},
     "output_type": "display_data"
    }
   ],
   "source": [
    "with plt.style.context('seaborn-white'):\n",
    "    plt.figure(figsize=(10, 5))\n",
    "    plt.title('Macro-F1 score of the classifier during the active learning')    \n",
    "    plt.plot(range(N_QUERIES+1), performance_history)\n",
    "    plt.scatter(range(N_QUERIES+1), performance_history)\n",
    "    plt.plot(range(N_QUERIES+1), np.repeat(baseline_score, N_QUERIES+1))\n",
    "    plt.legend(['Active learner performance','Baseline performance'], fontsize = 'large')\n",
    "    plt.xlabel('Number of queries')\n",
    "    plt.ylabel('Micro-f1 score')\n",
    "    plt.show()"
   ]
  },
  {
   "cell_type": "markdown",
   "metadata": {},
   "source": [
    "### Save results"
   ]
  },
  {
   "cell_type": "code",
   "execution_count": 32,
   "metadata": {},
   "outputs": [],
   "source": [
    "np.save(\"Results/performanceb\"+str(BATCH_SIZE)+\"seed\"+str(p_idx%5)+\".npy\",performance_history)"
   ]
  },
  {
   "cell_type": "code",
   "execution_count": 33,
   "metadata": {},
   "outputs": [],
   "source": [
    "np.save(\"Results/performancebaselineseed\"+str(p_idx%5)+\".npy\",baseline_score)"
   ]
  },
  {
   "cell_type": "markdown",
   "metadata": {},
   "source": [
    "#### Just to check if everything is ok"
   ]
  },
  {
   "cell_type": "code",
   "execution_count": 34,
   "metadata": {},
   "outputs": [],
   "source": [
    "#saved_closed = np.load(\"Results/performanceb\"+str(BATCH_SIZE)+\"closedseed\"+str(p_idx%5)+\".npy\")"
   ]
  },
  {
   "cell_type": "code",
   "execution_count": 35,
   "metadata": {},
   "outputs": [],
   "source": [
    "#print(saved_closed)"
   ]
  },
  {
   "cell_type": "code",
   "execution_count": 36,
   "metadata": {},
   "outputs": [],
   "source": [
    "#saved_base_closed = np.load(\"Results/performancebaselineclosedseed\"+str(p_idx%5)+\".npy\")"
   ]
  },
  {
   "cell_type": "code",
   "execution_count": 37,
   "metadata": {},
   "outputs": [],
   "source": [
    "#print(saved_base_closed)"
   ]
  },
  {
   "cell_type": "code",
   "execution_count": null,
   "metadata": {},
   "outputs": [],
   "source": []
  }
 ],
 "metadata": {
  "kernelspec": {
   "display_name": "Python 3 (ipykernel)",
   "language": "python",
   "name": "python3"
  },
  "language_info": {
   "codemirror_mode": {
    "name": "ipython",
    "version": 3
   },
   "file_extension": ".py",
   "mimetype": "text/x-python",
   "name": "python",
   "nbconvert_exporter": "python",
   "pygments_lexer": "ipython3",
   "version": "3.9.5"
  }
 },
 "nbformat": 4,
 "nbformat_minor": 4
}
